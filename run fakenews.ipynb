{
 "cells": [
  {
   "cell_type": "code",
   "execution_count": 24,
   "metadata": {},
   "outputs": [
    {
     "name": "stdout",
     "output_type": "stream",
     "text": [
      "--------Baseline score--------------\n",
      "TheOnion       0.540019\n",
      "nottheonion    0.459981\n",
      "Name: subreddit, dtype: float64\n",
      "-------------Best Model score------------------\n",
      "The mean accuracy on the test set: 0.8987669356066372\n",
      "------------Prediction of the input argv---------\n",
      "['TheOnion']\n"
     ]
    }
   ],
   "source": [
    "%run -i Fake_master.py \" The White House Reportedly Granted Cousin Itt Full Security Clearance And He Immediately Ran Off With The Nuclear Briefcase\""
   ]
  },
  {
   "cell_type": "code",
   "execution_count": null,
   "metadata": {},
   "outputs": [],
   "source": []
  }
 ],
 "metadata": {
  "kernelspec": {
   "display_name": "Python 3",
   "language": "python",
   "name": "python3"
  },
  "language_info": {
   "codemirror_mode": {
    "name": "ipython",
    "version": 3
   },
   "file_extension": ".py",
   "mimetype": "text/x-python",
   "name": "python",
   "nbconvert_exporter": "python",
   "pygments_lexer": "ipython3",
   "version": "3.6.6"
  }
 },
 "nbformat": 4,
 "nbformat_minor": 2
}
