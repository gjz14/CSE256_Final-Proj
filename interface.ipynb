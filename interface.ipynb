{
 "cells": [
  {
   "cell_type": "code",
   "execution_count": 1,
   "metadata": {},
   "outputs": [
    {
     "name": "stdout",
     "output_type": "stream",
     "text": [
      "--------Baseline score--------------\n",
      "TheOnion       0.540019\n",
      "nottheonion    0.459981\n",
      "Name: subreddit, dtype: float64\n",
      "-------------Best Model score------------------\n",
      "The mean accuracy on the test set: 0.8699954330948394\n"
     ]
    }
   ],
   "source": [
    "import Fake_master\n",
    "from selenium.webdriver.common.keys import Keys\n",
    "\n",
    "from selenium import webdriver\n",
    "from webdriver_manager.chrome import ChromeDriverManager\n",
    "from nltk.tokenize import word_tokenize\n",
    "nb, cvec, feature_weight_dict = Fake_master.main()"
   ]
  },
  {
   "cell_type": "code",
   "execution_count": 3,
   "metadata": {},
   "outputs": [
    {
     "name": "stdout",
     "output_type": "stream",
     "text": [
      "[[ 0.34028796 -0.2654422  -0.21579762 ...  0.0018305   0.12580777\n",
      "  -0.44340365]]\n"
     ]
    },
    {
     "name": "stderr",
     "output_type": "stream",
     "text": [
      "C:\\Users\\54440\\Miniconda2\\envs\\deeplearning\\lib\\re.py:212: FutureWarning: split() requires a non-empty pattern match.\n",
      "  return _compile(pattern, flags).split(string, maxsplit)\n"
     ]
    },
    {
     "name": "stdout",
     "output_type": "stream",
     "text": [
      "[[ 0.34028796 -0.2654422  -0.21579762 ...  0.0018305   0.12580777\n",
      "  -0.44340365]]\n",
      "\n",
      "Checking for win32 chromedriver:74.0.3729.6 in cache\n",
      "Driver found in C:\\Users\\54440\\.wdm\\chromedriver\\74.0.3729.6\\win32/chromedriver.exe\n"
     ]
    },
    {
     "data": {
      "text/plain": [
       "{'this': -0.4074618213418711,\n",
       " 'man': 0.8551495871188571,\n",
       " 'is': 1.3666723968679568,\n",
       " 'pretending': -0.12930726170646303,\n",
       " 'to': 0.24048527239271783,\n",
       " 'piss': -0.03165084210437143,\n",
       " 'for': 0.6623316333766754,\n",
       " 'little': -2.0731724162160994,\n",
       " 'longer': 0.26270994476302767,\n",
       " 'at': 0.7947199798136189,\n",
       " 'the': 0.12367262631116888,\n",
       " 'urinal': -0.3442328724953972,\n",
       " 'so': 0.3739182600907966,\n",
       " 'he': -0.2588609270189485,\n",
       " 'doesn': -0.22954349593894924,\n",
       " 'have': -0.5741006912085839,\n",
       " 'talk': -0.687630258606305,\n",
       " 'one': -0.3398611901792504,\n",
       " 'of': -0.29628653493026375,\n",
       " 'his': -0.022466705336215982,\n",
       " 'coworkers': 0.07484270574219548,\n",
       " 'washing': 0.43277450843830345,\n",
       " 'hands': -1.145215492790752}"
      ]
     },
     "execution_count": 3,
     "metadata": {},
     "output_type": "execute_result"
    },
    {
     "data": {
      "image/png": "[encoded data removed]",
      "text/plain": [
       "<Figure size 432x288 with 1 Axes>"
      ]
     },
     "metadata": {
      "image/png": {
       "height": 263,
       "width": 389
      },
      "needs_background": "light"
     },
     "output_type": "display_data"
    }
   ],
   "source": [
    "sample = \"This Man Is Pretending To Piss For A Little Longer At The Urinal So He Doesn’t Have To Talk To One Of His Coworkers Washing His Hands\"\n",
    "class_names = ['TheOnion', 'nottheonion']\n",
    "\n",
    "word_weight_dict = Fake_master.my_analysis(nb, cvec, sample, feature_weight_dict)\n",
    "Fake_master.prediction(sample,nb,cvec)\n",
    "Fake_master.lime_analysis(nb, cvec,sample)\n",
    "driver = webdriver.Chrome(ChromeDriverManager().install())\n",
    "driver.get(\"C:/Users/54440/Desktop/cse256/Final_project/Fake_oi.html\")\n",
    "word_weight_dict"
   ]
  },
  {
   "cell_type": "code",
   "execution_count": null,
   "metadata": {},
   "outputs": [],
   "source": []
  }
 ],
 "metadata": {
  "kernelspec": {
   "display_name": "Python 3",
   "language": "python",
   "name": "python3"
  },
  "language_info": {
   "codemirror_mode": {
    "name": "ipython",
    "version": 3
   },
   "file_extension": ".py",
   "mimetype": "text/x-python",
   "name": "python",
   "nbconvert_exporter": "python",
   "pygments_lexer": "ipython3",
   "version": "3.6.6"
  }
 },
 "nbformat": 4,
 "nbformat_minor": 2
}
